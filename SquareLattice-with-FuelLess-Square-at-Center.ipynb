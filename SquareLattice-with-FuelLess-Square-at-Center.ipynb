{
 "cells": [
  {
   "cell_type": "markdown",
   "id": "0afcc5a3",
   "metadata": {},
   "source": [
    "# This notebook creates a square lattice geometry of cylindrical fuel pins with an empty region in the center.\n",
    "\n",
    "**See the final geomtry at the end of the notebook to understand what we are doing here.** This is a derivative work of the [BWR](https://nbviewer.org/github/mit-crpg/openmc-reactor-examples/blob/main/BWR.ipynb) example from OpenMC Documentation.\n",
    "\n",
    "#### This is a 2D design for simplicity. To make this 3D, use the `top` and `bottom` planes to the region definitions of the cells.\n",
    "See In[3]."
   ]
  },
  {
   "cell_type": "code",
   "execution_count": 1,
   "id": "fc09a2c7",
   "metadata": {},
   "outputs": [],
   "source": [
    "%matplotlib inline\n",
    "import openmc"
   ]
  },
  {
   "cell_type": "markdown",
   "id": "123bbcd9",
   "metadata": {},
   "source": [
    "## The following cell defines the materials used here."
   ]
  },
  {
   "cell_type": "code",
   "execution_count": 2,
   "id": "5a05528c",
   "metadata": {},
   "outputs": [],
   "source": [
    "uo2 = openmc.Material(1, \"uo2\")\n",
    "uo2.add_nuclide('U235', 0.03)\n",
    "uo2.add_nuclide('U238', 0.97)\n",
    "uo2.add_nuclide('O16', 2.0)\n",
    "uo2.set_density('g/cm3', 10.0)\n",
    "\n",
    "zirconium = openmc.Material(name=\"zirconium\")\n",
    "zirconium.add_element('Zr', 1.0)\n",
    "zirconium.set_density('g/cm3', 6.6)\n",
    "\n",
    "water = openmc.Material(name=\"h2o\")\n",
    "water.add_nuclide('H1', 2.0)\n",
    "water.add_nuclide('O16', 1.0)\n",
    "water.set_density('g/cm3', 1.0)\n",
    "water.add_s_alpha_beta('c_H_in_H2O')\n",
    "\n",
    "\n",
    "materials = openmc.Materials([uo2, zirconium, water])\n",
    "materials.export_to_xml()"
   ]
  },
  {
   "cell_type": "markdown",
   "id": "5b9540b3",
   "metadata": {},
   "source": [
    "## The following cells define the geometry\n",
    "\n",
    "This cell below states the *fuel, clad inner and clad outer radius* as well as the *pitch* for the fuel rods.\n",
    "\n",
    "**NB: The `top` and `bottom` planes are not used here as the model is two dimensional.**\n",
    "To make this 3D just add these two planes to the definitions of the cell regions."
   ]
  },
  {
   "cell_type": "code",
   "execution_count": 3,
   "id": "d64796d3",
   "metadata": {},
   "outputs": [],
   "source": [
    "fuel_outer_radius = openmc.ZCylinder(r=0.39)\n",
    "clad_inner_radius = openmc.ZCylinder(r=0.40)\n",
    "clad_outer_radius = openmc.ZCylinder(r=0.46)\n",
    "\n",
    "#top    = openmc.ZPlane(z0= 1, boundary_type=\"reflective\") # not used. see note\n",
    "#bottom = openmc.ZPlane(z0=-1, boundary_type=\"reflective\") # not used\n",
    "\n",
    "pitch  = 1.2\n",
    "pin_cell_box = openmc.rectangular_prism(width=pitch, height=pitch)"
   ]
  },
  {
   "cell_type": "code",
   "execution_count": 4,
   "id": "f73dd9e5",
   "metadata": {},
   "outputs": [],
   "source": [
    "fuel_region  = -fuel_outer_radius\n",
    "gap_region   = +fuel_outer_radius & -clad_inner_radius\n",
    "clad_region  = +clad_inner_radius & -clad_outer_radius\n",
    "water_region = pin_cell_box & +clad_outer_radius"
   ]
  },
  {
   "cell_type": "code",
   "execution_count": 5,
   "id": "d7edc2ee",
   "metadata": {},
   "outputs": [],
   "source": [
    "fuel = openmc.Cell(name='fuel')\n",
    "fuel.fill = uo2\n",
    "fuel.region = fuel_region\n",
    "\n",
    "gap = openmc.Cell(name='air gap')\n",
    "gap.region = gap_region\n",
    "\n",
    "clad = openmc.Cell(name='clad')\n",
    "clad.fill = zirconium\n",
    "clad.region = clad_region\n",
    "\n",
    "moderator = openmc.Cell(name='moderator')\n",
    "moderator.fill = water\n",
    "moderator.region = water_region"
   ]
  },
  {
   "cell_type": "code",
   "execution_count": 6,
   "id": "993685c6",
   "metadata": {
    "scrolled": true
   },
   "outputs": [
    {
     "data": {
      "text/plain": [
       "<matplotlib.image.AxesImage at 0x7f0bcb8b3340>"
      ]
     },
     "execution_count": 6,
     "metadata": {},
     "output_type": "execute_result"
    },
    {
     "data": {
      "image/png": "[encoded data removed]",
      "text/plain": [
       "<Figure size 432x288 with 1 Axes>"
      ]
     },
     "metadata": {
      "needs_background": "light"
     },
     "output_type": "display_data"
    }
   ],
   "source": [
    "fuel_pin_universe = openmc.Universe(cells=(fuel, gap, clad, moderator))\n",
    "fuel_pin_universe.plot(width=(1,1), colors = {fuel: 'orange', gap: 'white', clad: 'black', moderator: 'cyan'})"
   ]
  },
  {
   "cell_type": "markdown",
   "id": "e92efa83",
   "metadata": {},
   "source": [
    "### Now, as the model of  a single fuel rod is done, we focus on creating the \n",
    "\n",
    "The following cell creates a pin cell filled with water."
   ]
  },
  {
   "cell_type": "code",
   "execution_count": 7,
   "id": "98982f36",
   "metadata": {},
   "outputs": [],
   "source": [
    "fully_water_pincell = openmc.Cell(name=\"full water\")\n",
    "fully_water_pincell.region = pin_cell_box\n",
    "fully_water_pincell.fill = water\n",
    "\n",
    "full_water_pinuniverse = openmc.Universe(cells=[fully_water_pincell])"
   ]
  },
  {
   "cell_type": "markdown",
   "id": "4759f7ec",
   "metadata": {},
   "source": [
    "### This cell defines a cell with a sleave of zirconium on the upper section which will constitute the inner square later."
   ]
  },
  {
   "cell_type": "code",
   "execution_count": 8,
   "id": "18f7fe75",
   "metadata": {},
   "outputs": [
    {
     "data": {
      "text/plain": [
       "<matplotlib.image.AxesImage at 0x7f0bc36143d0>"
      ]
     },
     "execution_count": 8,
     "metadata": {},
     "output_type": "execute_result"
    },
    {
     "data": {
      "image/png": "[encoded data removed]",
      "text/plain": [
       "<Figure size 432x288 with 1 Axes>"
      ]
     },
     "metadata": {
      "needs_background": "light"
     },
     "output_type": "display_data"
    }
   ],
   "source": [
    "sleave_thickness = 0.12 # two times clad thickness\n",
    "\n",
    "\n",
    "us_water_cell = openmc.Cell(name=\"Upper Sleave pin water cell\")\n",
    "us_water_cell.region = -openmc.XPlane(x0=pitch/2) & +openmc.XPlane(x0=-pitch/2) & -openmc.YPlane(y0=pitch/2-sleave_thickness) & +openmc.YPlane(y0=-pitch/2)\n",
    "us_water_cell.fill = water\n",
    "\n",
    "us_sleave_cell = openmc.Cell(name=\"Upper Sleave pin sleave cell\")\n",
    "us_sleave_cell.region = -openmc.XPlane(x0=pitch/2) & +openmc.XPlane(x0=-pitch/2) & -openmc.YPlane(y0=pitch/2) & +openmc.YPlane(y0=pitch/2 - sleave_thickness)\n",
    "us_sleave_cell.fill = zirconium\n",
    "\n",
    "us_sleave_universe = openmc.Universe(cells=[us_water_cell, us_sleave_cell])\n",
    "\n",
    "us_sleave_universe.plot(width=(2,2))"
   ]
  },
  {
   "cell_type": "markdown",
   "id": "653d4cf4",
   "metadata": {},
   "source": [
    "### Cell with a sleave at the lower part"
   ]
  },
  {
   "cell_type": "code",
   "execution_count": 9,
   "id": "f368d261",
   "metadata": {},
   "outputs": [
    {
     "data": {
      "text/plain": [
       "<matplotlib.image.AxesImage at 0x7f0bc366f4f0>"
      ]
     },
     "execution_count": 9,
     "metadata": {},
     "output_type": "execute_result"
    },
    {
     "data": {
      "image/png": "[encoded data removed]",
      "text/plain": [
       "<Figure size 432x288 with 1 Axes>"
      ]
     },
     "metadata": {
      "needs_background": "light"
     },
     "output_type": "display_data"
    }
   ],
   "source": [
    "ls_water_cell = openmc.Cell(name=\"Lower Sleave pin water cell\")\n",
    "ls_water_cell.region = -openmc.XPlane(x0=pitch/2) & +openmc.XPlane(x0=-pitch/2) & -openmc.YPlane(y0=pitch/2) & +openmc.YPlane(y0=-pitch/2 + sleave_thickness)\n",
    "ls_water_cell.fill = water\n",
    "\n",
    "ls_sleave_cell = openmc.Cell(name=\"Lower Sleave pin sleave cell\")\n",
    "ls_sleave_cell.region = -openmc.XPlane(x0=pitch/2) & +openmc.XPlane(x0=-pitch/2) & -openmc.YPlane(y0=sleave_thickness-pitch/2) & +openmc.YPlane(y0=-pitch/2)\n",
    "ls_sleave_cell.fill = zirconium\n",
    "\n",
    "ls_sleave_universe = openmc.Universe(cells=[ls_water_cell, ls_sleave_cell])\n",
    "\n",
    "ls_sleave_universe.plot(width=(2,2))"
   ]
  },
  {
   "cell_type": "markdown",
   "id": "f868d5fd",
   "metadata": {},
   "source": [
    "### Sleave at the right"
   ]
  },
  {
   "cell_type": "code",
   "execution_count": 10,
   "id": "15774f3b",
   "metadata": {},
   "outputs": [
    {
     "data": {
      "text/plain": [
       "<matplotlib.image.AxesImage at 0x7f0bc36da140>"
      ]
     },
     "execution_count": 10,
     "metadata": {},
     "output_type": "execute_result"
    },
    {
     "data": {
      "image/png": "[encoded data removed]",
      "text/plain": [
       "<Figure size 432x288 with 1 Axes>"
      ]
     },
     "metadata": {
      "needs_background": "light"
     },
     "output_type": "display_data"
    }
   ],
   "source": [
    "rs_water_cell = openmc.Cell(name=\"Right Sleave pin water cell\")\n",
    "rs_water_cell.region = -openmc.XPlane(x0=pitch/2-sleave_thickness) & +openmc.XPlane(x0=-pitch/2) & -openmc.YPlane(y0=pitch/2) & +openmc.YPlane(y0=-pitch/2)\n",
    "rs_water_cell.fill = water\n",
    "\n",
    "rs_sleave_cell = openmc.Cell(name=\"Right Sleave pin sleave cell\")\n",
    "rs_sleave_cell.region = -openmc.XPlane(x0=pitch/2) & +openmc.XPlane(x0=pitch/2-sleave_thickness) & -openmc.YPlane(y0=pitch/2) & +openmc.YPlane(y0=-pitch/2)\n",
    "rs_sleave_cell.fill = zirconium\n",
    "\n",
    "rs_sleave_universe = openmc.Universe(cells=[rs_water_cell, rs_sleave_cell])\n",
    "\n",
    "rs_sleave_universe.plot(width=(2,2))"
   ]
  },
  {
   "cell_type": "markdown",
   "id": "965e6387",
   "metadata": {},
   "source": [
    "### Sleave at the left"
   ]
  },
  {
   "cell_type": "code",
   "execution_count": 11,
   "id": "caac822e",
   "metadata": {
    "scrolled": true
   },
   "outputs": [
    {
     "data": {
      "text/plain": [
       "<matplotlib.image.AxesImage at 0x7f0bc3550eb0>"
      ]
     },
     "execution_count": 11,
     "metadata": {},
     "output_type": "execute_result"
    },
    {
     "data": {
      "image/png": "[encoded data removed]",
      "text/plain": [
       "<Figure size 432x288 with 1 Axes>"
      ]
     },
     "metadata": {
      "needs_background": "light"
     },
     "output_type": "display_data"
    }
   ],
   "source": [
    "lft_water_cell = openmc.Cell(name=\"Left Sleave pin water cell\")\n",
    "lft_water_cell.region = -openmc.XPlane(x0=pitch/2) & +openmc.XPlane(x0=-pitch/2 + sleave_thickness) & -openmc.YPlane(y0=pitch/2) & +openmc.YPlane(y0=-pitch/2)\n",
    "lft_water_cell.fill = water\n",
    "\n",
    "lft_sleave_cell = openmc.Cell(name=\"Left Sleave pin sleave cell\")\n",
    "lft_sleave_cell.region = -openmc.XPlane(x0=sleave_thickness-pitch/2) & +openmc.XPlane(x0=-pitch/2) & -openmc.YPlane(y0=pitch/2) & +openmc.YPlane(y0=-pitch/2)\n",
    "lft_sleave_cell.fill = zirconium\n",
    "\n",
    "lft_sleave_universe = openmc.Universe(cells=[lft_water_cell, lft_sleave_cell])\n",
    "\n",
    "lft_sleave_universe.plot(width=(2,2))"
   ]
  },
  {
   "cell_type": "markdown",
   "id": "8a57a13a",
   "metadata": {},
   "source": [
    "### Sleave at the Upper-Left"
   ]
  },
  {
   "cell_type": "code",
   "execution_count": 12,
   "id": "cd8cf2f3",
   "metadata": {
    "scrolled": true
   },
   "outputs": [
    {
     "data": {
      "text/plain": [
       "<matplotlib.image.AxesImage at 0x7f0bc359b100>"
      ]
     },
     "execution_count": 12,
     "metadata": {},
     "output_type": "execute_result"
    },
    {
     "data": {
      "image/png": "[encoded data removed]",
      "text/plain": [
       "<Figure size 432x288 with 1 Axes>"
      ]
     },
     "metadata": {
      "needs_background": "light"
     },
     "output_type": "display_data"
    }
   ],
   "source": [
    "upper_left_water_cell = openmc.Cell(name=\"Upper left Sleave pin water cell\")\n",
    "upper_left_water_cell.region = -openmc.XPlane(x0=pitch/2) & +openmc.XPlane(x0=-pitch/2 + sleave_thickness) & -openmc.YPlane(y0=pitch/2-sleave_thickness) & +openmc.YPlane(y0=-pitch/2)\n",
    "upper_left_water_cell.fill = water\n",
    "\n",
    "upper_left_sleave_cell = openmc.Cell(name=\"Upper left Sleave pin sleave cell\")\n",
    "upper_left_sleave_cell.region = us_sleave_cell.region | lft_sleave_cell.region\n",
    "upper_left_sleave_cell.fill = zirconium\n",
    "\n",
    "upper_left_sleave_universe = openmc.Universe(cells=[upper_left_water_cell, upper_left_sleave_cell])\n",
    "\n",
    "upper_left_sleave_universe.plot(width=(2,2))"
   ]
  },
  {
   "cell_type": "markdown",
   "id": "4b7feab2",
   "metadata": {},
   "source": [
    "### Sleave at the Upper-Right"
   ]
  },
  {
   "cell_type": "code",
   "execution_count": 13,
   "id": "3a2a8535",
   "metadata": {},
   "outputs": [
    {
     "data": {
      "text/plain": [
       "<matplotlib.image.AxesImage at 0x7f0bc340dba0>"
      ]
     },
     "execution_count": 13,
     "metadata": {},
     "output_type": "execute_result"
    },
    {
     "data": {
      "image/png": "[encoded data removed]",
      "text/plain": [
       "<Figure size 432x288 with 1 Axes>"
      ]
     },
     "metadata": {
      "needs_background": "light"
     },
     "output_type": "display_data"
    }
   ],
   "source": [
    "upper_right_water_cell = openmc.Cell(name=\"Upper right Sleave pin water cell\")\n",
    "upper_right_water_cell.region = -openmc.XPlane(x0=pitch/2-sleave_thickness) & +openmc.XPlane(x0=-pitch/2) & -openmc.YPlane(y0=pitch/2-sleave_thickness) & +openmc.YPlane(y0=-pitch/2)\n",
    "upper_right_water_cell.fill = water\n",
    "\n",
    "upper_right_sleave_cell = openmc.Cell(name=\"Upper right Sleave pin sleave cell\")\n",
    "upper_right_sleave_cell.region = us_sleave_cell.region | rs_sleave_cell.region\n",
    "upper_right_sleave_cell.fill = zirconium\n",
    "\n",
    "upper_right_sleave_universe = openmc.Universe(cells=[upper_right_water_cell, upper_right_sleave_cell])\n",
    "\n",
    "upper_right_sleave_universe.plot(width=(2,2))"
   ]
  },
  {
   "cell_type": "markdown",
   "id": "18990034",
   "metadata": {},
   "source": [
    "### Sleave at the Lower-Right"
   ]
  },
  {
   "cell_type": "code",
   "execution_count": 14,
   "id": "df63f3f4",
   "metadata": {},
   "outputs": [
    {
     "data": {
      "text/plain": [
       "<matplotlib.image.AxesImage at 0x7f0bc347c610>"
      ]
     },
     "execution_count": 14,
     "metadata": {},
     "output_type": "execute_result"
    },
    {
     "data": {
      "image/png": "[encoded data removed]",
      "text/plain": [
       "<Figure size 432x288 with 1 Axes>"
      ]
     },
     "metadata": {
      "needs_background": "light"
     },
     "output_type": "display_data"
    }
   ],
   "source": [
    "lower_right_water_cell = openmc.Cell(name=\"lower right Sleave pin water cell\")\n",
    "lower_right_water_cell.region = -openmc.XPlane(x0=pitch/2-sleave_thickness) & +openmc.XPlane(x0=-pitch/2) & -openmc.YPlane(y0=pitch/2) & +openmc.YPlane(y0=-pitch/2+sleave_thickness)\n",
    "lower_right_water_cell.fill = water\n",
    "\n",
    "lower_right_sleave_cell = openmc.Cell(name=\"lower right Sleave pin sleave cell\")\n",
    "lower_right_sleave_cell.region = ls_sleave_cell.region | rs_sleave_cell.region\n",
    "lower_right_sleave_cell.fill = zirconium\n",
    "\n",
    "lower_right_sleave_universe = openmc.Universe(cells=[lower_right_water_cell, lower_right_sleave_cell])\n",
    "\n",
    "lower_right_sleave_universe.plot(width=(2,2))"
   ]
  },
  {
   "cell_type": "markdown",
   "id": "0aae2cc3",
   "metadata": {},
   "source": [
    "### Sleave at Lower-Left"
   ]
  },
  {
   "cell_type": "code",
   "execution_count": 15,
   "id": "3e033187",
   "metadata": {},
   "outputs": [
    {
     "data": {
      "text/plain": [
       "<matplotlib.image.AxesImage at 0x7f0bc34caf50>"
      ]
     },
     "execution_count": 15,
     "metadata": {},
     "output_type": "execute_result"
    },
    {
     "data": {
      "image/png": "[encoded data removed]",
      "text/plain": [
       "<Figure size 432x288 with 1 Axes>"
      ]
     },
     "metadata": {
      "needs_background": "light"
     },
     "output_type": "display_data"
    }
   ],
   "source": [
    "lower_left_water_cell = openmc.Cell(name=\"lower left Sleave pin water cell\")\n",
    "lower_left_water_cell.region = -openmc.XPlane(x0=pitch/2) & +openmc.XPlane(x0=-pitch/2+sleave_thickness) & -openmc.YPlane(y0=pitch/2) & +openmc.YPlane(y0=-pitch/2+sleave_thickness)\n",
    "lower_left_water_cell.fill = water\n",
    "\n",
    "lower_left_sleave_cell = openmc.Cell(name=\"lower left Sleave pin sleave cell\")\n",
    "lower_left_sleave_cell.region = ls_sleave_cell.region | lft_sleave_cell.region\n",
    "lower_left_sleave_cell.fill = zirconium\n",
    "\n",
    "lower_left_sleave_universe = openmc.Universe(cells=[lower_left_water_cell, lower_left_sleave_cell])\n",
    "\n",
    "lower_left_sleave_universe.plot(width=(2,2))"
   ]
  },
  {
   "cell_type": "markdown",
   "id": "cc14e27a",
   "metadata": {},
   "source": [
    "## Now the assembly is defined using the previously modelled pin universes.\n",
    "It is a 7\\*7 lattice and all the pins are written explicitly.\n",
    "\n",
    "**A sleave is also generated to around the whole assembly.**"
   ]
  },
  {
   "cell_type": "code",
   "execution_count": 16,
   "id": "151af91f",
   "metadata": {},
   "outputs": [],
   "source": [
    "assembly_pitch = pitch * 7\n",
    "\n",
    "assembly = openmc.RectLattice(name='Assembly Lattice')\n",
    "assembly.pitch = (pitch, pitch)\n",
    "assembly.lower_left = [-assembly_pitch/2, -assembly_pitch/2]\n",
    "\n",
    "assembly.universes = [\n",
    "    [fuel_pin_universe, fuel_pin_universe, fuel_pin_universe, fuel_pin_universe, fuel_pin_universe, fuel_pin_universe, fuel_pin_universe, ],\n",
    "    [fuel_pin_universe, fuel_pin_universe, fuel_pin_universe, fuel_pin_universe, fuel_pin_universe, fuel_pin_universe, fuel_pin_universe, ],\n",
    "    [fuel_pin_universe, fuel_pin_universe, upper_left_sleave_universe, us_sleave_universe, upper_right_sleave_universe, fuel_pin_universe, fuel_pin_universe],\n",
    "    [fuel_pin_universe, fuel_pin_universe, lft_sleave_universe, full_water_pinuniverse, rs_sleave_universe, fuel_pin_universe, fuel_pin_universe],\n",
    "    [fuel_pin_universe, fuel_pin_universe, lower_left_sleave_universe, ls_sleave_universe, lower_right_sleave_universe, fuel_pin_universe, fuel_pin_universe],\n",
    "    [fuel_pin_universe, fuel_pin_universe, fuel_pin_universe, fuel_pin_universe, fuel_pin_universe, fuel_pin_universe, fuel_pin_universe, ],\n",
    "    [fuel_pin_universe, fuel_pin_universe, fuel_pin_universe, fuel_pin_universe, fuel_pin_universe, fuel_pin_universe, fuel_pin_universe, ]\n",
    "]\n",
    "assembly_region = openmc.rectangular_prism(width=assembly_pitch, height=assembly_pitch, origin=(0,0))\n",
    "assembly_cell = openmc.Cell(name='assembly cell', fill=assembly, region=assembly_region)\n",
    "\n",
    "assembly_sleave = openmc.Cell(name='assembly sleave')\n",
    "assembly_sleave.region = openmc.rectangular_prism(width=assembly_pitch+2*sleave_thickness, height=assembly_pitch+2*sleave_thickness) & ~assembly_cell.region\n",
    "assembly_sleave.fill = zirconium\n",
    "\n",
    "assembly_outer_water = openmc.Cell(name='assembly outer water')\n",
    "assembly_outer_water.region = ~assembly_sleave.region & ~assembly_cell.region & openmc.rectangular_prism(width=assembly_pitch+2*sleave_thickness+1, height=assembly_pitch+2*sleave_thickness+1, boundary_type='reflective')\n",
    "assembly_outer_water.fill = water\n",
    "\n",
    "assembly_universe = openmc.Universe(cells=[assembly_cell, assembly_sleave, assembly_outer_water])"
   ]
  },
  {
   "cell_type": "code",
   "execution_count": 17,
   "id": "677716ac",
   "metadata": {
    "scrolled": true
   },
   "outputs": [
    {
     "data": {
      "text/plain": [
       "<matplotlib.image.AxesImage at 0x7f0bc3349270>"
      ]
     },
     "execution_count": 17,
     "metadata": {},
     "output_type": "execute_result"
    },
    {
     "data": {
      "image/png": "[encoded data removed]",
      "text/plain": [
       "<Figure size 432x288 with 1 Axes>"
      ]
     },
     "metadata": {
      "needs_background": "light"
     },
     "output_type": "display_data"
    }
   ],
   "source": [
    "assembly_universe.plot(width=(10,10))"
   ]
  },
  {
   "cell_type": "code",
   "execution_count": 18,
   "id": "6a767af2",
   "metadata": {},
   "outputs": [],
   "source": [
    "geom = openmc.Geometry(assembly_universe)\n",
    "geom.export_to_xml()"
   ]
  },
  {
   "cell_type": "markdown",
   "id": "07065ff3",
   "metadata": {},
   "source": [
    "## This creates a plot with hight resolution and colored my material.\n",
    "Find the plot on the directory where this notebook file is located."
   ]
  },
  {
   "cell_type": "code",
   "execution_count": 19,
   "id": "aa2e9d4a",
   "metadata": {},
   "outputs": [
    {
     "name": "stdout",
     "output_type": "stream",
     "text": [
      "                                %%%%%%%%%%%%%%%\n",
      "                           %%%%%%%%%%%%%%%%%%%%%%%%\n",
      "                        %%%%%%%%%%%%%%%%%%%%%%%%%%%%%%\n",
      "                      %%%%%%%%%%%%%%%%%%%%%%%%%%%%%%%%%%\n",
      "                    %%%%%%%%%%%%%%%%%%%%%%%%%%%%%%%%%%%%%%\n",
      "                   %%%%%%%%%%%%%%%%%%%%%%%%%%%%%%%%%%%%%%%%\n",
      "                                    %%%%%%%%%%%%%%%%%%%%%%%%\n",
      "                                     %%%%%%%%%%%%%%%%%%%%%%%%\n",
      "                 ###############      %%%%%%%%%%%%%%%%%%%%%%%%\n",
      "                ##################     %%%%%%%%%%%%%%%%%%%%%%%\n",
      "                ###################     %%%%%%%%%%%%%%%%%%%%%%%\n",
      "                ####################     %%%%%%%%%%%%%%%%%%%%%%\n",
      "                #####################     %%%%%%%%%%%%%%%%%%%%%\n",
      "                ######################     %%%%%%%%%%%%%%%%%%%%\n",
      "                #######################     %%%%%%%%%%%%%%%%%%\n",
      "                 #######################     %%%%%%%%%%%%%%%%%\n",
      "                 ######################     %%%%%%%%%%%%%%%%%\n",
      "                  ####################     %%%%%%%%%%%%%%%%%\n",
      "                    #################     %%%%%%%%%%%%%%%%%\n",
      "                     ###############     %%%%%%%%%%%%%%%%\n",
      "                       ############     %%%%%%%%%%%%%%%\n",
      "                          ########     %%%%%%%%%%%%%%\n",
      "                                      %%%%%%%%%%%\n",
      "\n",
      "                 | The OpenMC Monte Carlo Code\n",
      "       Copyright | 2011-2022 MIT, UChicago Argonne LLC, and contributors\n",
      "         License | https://docs.openmc.org/en/latest/license.html\n",
      "         Version | 0.13.0\n",
      "        Git SHA1 | a64df444b72c755afe82d85fbcb2cb6f0a61009c\n",
      "       Date/Time | 2022-04-15 23:39:48\n",
      "  OpenMP Threads | 4\n",
      "\n",
      " Reading settings XML file...\n",
      " Reading cross sections XML file...\n",
      " Reading materials XML file...\n",
      " Reading geometry XML file...\n",
      " Reading tallies XML file...\n",
      " Preparing distributed cell instances...\n",
      " Reading plot XML file...\n",
      "\n",
      " =======================>     PLOTTING SUMMARY     <========================\n",
      "\n",
      "Plot ID: 1\n",
      "Plot file: plot_1.png\n",
      "Universe depth: -1\n",
      "Plot Type: Slice\n",
      "Origin: 1 1 0\n",
      "Width:   15   15\n",
      "Coloring: Materials\n",
      "Basis: XY\n",
      "Pixels: 5000 5000\n",
      "\n",
      " Processing plot 1: plot_1.png...\n"
     ]
    }
   ],
   "source": [
    "plot = openmc.Plot()\n",
    "plot.basis = 'xy'\n",
    "plot.origin = (1, 1, 0)\n",
    "plot.width = (15., 15.)\n",
    "plot.pixels = (5000, 5000) # Change the resolution if needed.\n",
    "plot.color_by = 'material'\n",
    "plot.colors = {\n",
    "    water: 'cyan',\n",
    "    uo2: 'yellow',\n",
    "    zirconium: 'black'\n",
    "}\n",
    "plots = openmc.Plots([plot])\n",
    "plots.export_to_xml()\n",
    "openmc.plot_geometry()"
   ]
  },
  {
   "cell_type": "markdown",
   "id": "1b7cbce9",
   "metadata": {},
   "source": [
    "## The following cells are dummy to simply run the simulation."
   ]
  },
  {
   "cell_type": "code",
   "execution_count": 20,
   "id": "ea134701",
   "metadata": {},
   "outputs": [],
   "source": [
    "# Create a point source\n",
    "point = openmc.stats.Point((0, 0, 0))\n",
    "source = openmc.Source(space=point)"
   ]
  },
  {
   "cell_type": "code",
   "execution_count": 21,
   "id": "a3227422",
   "metadata": {},
   "outputs": [],
   "source": [
    "settings = openmc.Settings()\n",
    "settings.source = source\n",
    "settings.batches = 100\n",
    "settings.inactive = 10\n",
    "settings.particles = 1000"
   ]
  },
  {
   "cell_type": "code",
   "execution_count": 22,
   "id": "cca9a3dd",
   "metadata": {},
   "outputs": [],
   "source": [
    "settings.export_to_xml()"
   ]
  },
  {
   "cell_type": "code",
   "execution_count": 23,
   "id": "2ac6d0e0",
   "metadata": {},
   "outputs": [],
   "source": [
    "cell_filter = openmc.CellFilter(fuel)\n",
    "\n",
    "tally = openmc.Tally(1)\n",
    "tally.filters = [cell_filter]\n",
    "\n",
    "tally.nuclides = ['U235']\n",
    "tally.scores = ['total', 'fission', 'absorption', '(n,gamma)']\n",
    "\n",
    "tallies = openmc.Tallies([tally])\n",
    "tallies.export_to_xml()"
   ]
  },
  {
   "cell_type": "code",
   "execution_count": 24,
   "id": "cf1572e1",
   "metadata": {},
   "outputs": [
    {
     "name": "stdout",
     "output_type": "stream",
     "text": [
      "                                %%%%%%%%%%%%%%%\n",
      "                           %%%%%%%%%%%%%%%%%%%%%%%%\n",
      "                        %%%%%%%%%%%%%%%%%%%%%%%%%%%%%%\n",
      "                      %%%%%%%%%%%%%%%%%%%%%%%%%%%%%%%%%%\n",
      "                    %%%%%%%%%%%%%%%%%%%%%%%%%%%%%%%%%%%%%%\n",
      "                   %%%%%%%%%%%%%%%%%%%%%%%%%%%%%%%%%%%%%%%%\n",
      "                                    %%%%%%%%%%%%%%%%%%%%%%%%\n",
      "                                     %%%%%%%%%%%%%%%%%%%%%%%%\n",
      "                 ###############      %%%%%%%%%%%%%%%%%%%%%%%%\n",
      "                ##################     %%%%%%%%%%%%%%%%%%%%%%%\n",
      "                ###################     %%%%%%%%%%%%%%%%%%%%%%%\n",
      "                ####################     %%%%%%%%%%%%%%%%%%%%%%\n",
      "                #####################     %%%%%%%%%%%%%%%%%%%%%\n",
      "                ######################     %%%%%%%%%%%%%%%%%%%%\n",
      "                #######################     %%%%%%%%%%%%%%%%%%\n",
      "                 #######################     %%%%%%%%%%%%%%%%%\n",
      "                 ######################     %%%%%%%%%%%%%%%%%\n",
      "                  ####################     %%%%%%%%%%%%%%%%%\n",
      "                    #################     %%%%%%%%%%%%%%%%%\n",
      "                     ###############     %%%%%%%%%%%%%%%%\n",
      "                       ############     %%%%%%%%%%%%%%%\n",
      "                          ########     %%%%%%%%%%%%%%\n",
      "                                      %%%%%%%%%%%\n",
      "\n",
      "                 | The OpenMC Monte Carlo Code\n",
      "       Copyright | 2011-2022 MIT, UChicago Argonne LLC, and contributors\n",
      "         License | https://docs.openmc.org/en/latest/license.html\n",
      "         Version | 0.13.0\n",
      "        Git SHA1 | a64df444b72c755afe82d85fbcb2cb6f0a61009c\n",
      "       Date/Time | 2022-04-15 23:40:28\n",
      "  OpenMP Threads | 4\n",
      "\n",
      " Reading settings XML file...\n",
      " Reading cross sections XML file...\n",
      " Reading materials XML file...\n",
      " Reading geometry XML file...\n",
      " Reading U235 from /home/fuad/data/endfb80_hdf5/U235.h5\n",
      " Reading U238 from /home/fuad/data/endfb80_hdf5/U238.h5\n",
      " Reading O16 from /home/fuad/data/endfb80_hdf5/O16.h5\n",
      " Reading Zr90 from /home/fuad/data/endfb80_hdf5/Zr90.h5\n",
      " Reading Zr91 from /home/fuad/data/endfb80_hdf5/Zr91.h5\n",
      " Reading Zr92 from /home/fuad/data/endfb80_hdf5/Zr92.h5\n",
      " Reading Zr94 from /home/fuad/data/endfb80_hdf5/Zr94.h5\n",
      " Reading Zr96 from /home/fuad/data/endfb80_hdf5/Zr96.h5\n",
      " WARNING: Negative value(s) found on probability table for nuclide Zr96 at 294K\n",
      " Reading H1 from /home/fuad/data/endfb80_hdf5/H1.h5\n",
      " Reading c_H_in_H2O from /home/fuad/data/endfb80_hdf5/c_H_in_H2O.h5\n",
      " Minimum neutron data temperature: 294 K\n",
      " Maximum neutron data temperature: 294 K\n",
      " Reading tallies XML file...\n",
      " Preparing distributed cell instances...\n",
      " Reading plot XML file...\n",
      " Writing summary.h5 file...\n",
      " Maximum neutron transport energy: 20000000 eV for Zr90\n",
      " Initializing source particles...\n",
      "\n",
      " ====================>     K EIGENVALUE SIMULATION     <====================\n",
      "\n",
      "  Bat./Gen.      k            Average k\n",
      "  =========   ========   ====================\n",
      "        1/1    1.34644\n",
      "        2/1    1.28722\n",
      "        3/1    1.43393\n",
      "        4/1    1.31589\n",
      "        5/1    1.36647\n",
      "        6/1    1.43742\n",
      "        7/1    1.34109\n",
      "        8/1    1.43117\n",
      "        9/1    1.40400\n",
      "       10/1    1.36889\n",
      "       11/1    1.25591\n",
      "       12/1    1.35058    1.30324 +/- 0.04733\n",
      "       13/1    1.38049    1.32899 +/- 0.03755\n",
      "       14/1    1.33984    1.33170 +/- 0.02669\n",
      "       15/1    1.42875    1.35111 +/- 0.02836\n",
      "       16/1    1.36859    1.35403 +/- 0.02334\n",
      "       17/1    1.34314    1.35247 +/- 0.01978\n",
      "       18/1    1.27675    1.34301 +/- 0.01957\n",
      "       19/1    1.37838    1.34694 +/- 0.01770\n",
      "       20/1    1.37564    1.34981 +/- 0.01609\n",
      "       21/1    1.33144    1.34814 +/- 0.01465\n",
      "       22/1    1.34951    1.34825 +/- 0.01338\n",
      "       23/1    1.41214    1.35317 +/- 0.01325\n",
      "       24/1    1.29855    1.34926 +/- 0.01287\n",
      "       25/1    1.28262    1.34482 +/- 0.01278\n",
      "       26/1    1.31872    1.34319 +/- 0.01207\n",
      "       27/1    1.32855    1.34233 +/- 0.01137\n",
      "       28/1    1.32833    1.34155 +/- 0.01074\n",
      "       29/1    1.35941    1.34249 +/- 0.01021\n",
      "       30/1    1.35562    1.34315 +/- 0.00971\n",
      "       31/1    1.36241    1.34406 +/- 0.00928\n",
      "       32/1    1.39038    1.34617 +/- 0.00909\n",
      "       33/1    1.31330    1.34474 +/- 0.00880\n",
      "       34/1    1.30114    1.34292 +/- 0.00862\n",
      "       35/1    1.42453    1.34619 +/- 0.00889\n",
      "       36/1    1.40881    1.34860 +/- 0.00888\n",
      "       37/1    1.41482    1.35105 +/- 0.00889\n",
      "       38/1    1.36707    1.35162 +/- 0.00858\n",
      "       39/1    1.41730    1.35389 +/- 0.00859\n",
      "       40/1    1.40662    1.35564 +/- 0.00848\n",
      "       41/1    1.38618    1.35663 +/- 0.00826\n",
      "       42/1    1.32494    1.35564 +/- 0.00806\n",
      "       43/1    1.39380    1.35679 +/- 0.00790\n",
      "       44/1    1.42679    1.35885 +/- 0.00793\n",
      "       45/1    1.46811    1.36197 +/- 0.00831\n",
      "       46/1    1.35822    1.36187 +/- 0.00808\n",
      "       47/1    1.37774    1.36230 +/- 0.00787\n",
      "       48/1    1.30888    1.36089 +/- 0.00778\n",
      "       49/1    1.38405    1.36149 +/- 0.00761\n",
      "       50/1    1.34110    1.36098 +/- 0.00743\n",
      "       51/1    1.48760    1.36407 +/- 0.00788\n",
      "       52/1    1.38561    1.36458 +/- 0.00771\n",
      "       53/1    1.35786    1.36442 +/- 0.00753\n",
      "       54/1    1.34521    1.36399 +/- 0.00737\n",
      "       55/1    1.36733    1.36406 +/- 0.00720\n",
      "       56/1    1.33867    1.36351 +/- 0.00706\n",
      "       57/1    1.33407    1.36288 +/- 0.00694\n",
      "       58/1    1.27426    1.36104 +/- 0.00704\n",
      "       59/1    1.34067    1.36062 +/- 0.00691\n",
      "       60/1    1.36867    1.36078 +/- 0.00677\n",
      "       61/1    1.45849    1.36270 +/- 0.00691\n",
      "       62/1    1.33177    1.36210 +/- 0.00680\n",
      "       63/1    1.36038    1.36207 +/- 0.00667\n",
      "       64/1    1.42336    1.36321 +/- 0.00664\n",
      "       65/1    1.33016    1.36260 +/- 0.00655\n",
      "       66/1    1.37233    1.36278 +/- 0.00643\n",
      "       67/1    1.36947    1.36290 +/- 0.00632\n",
      "       68/1    1.35288    1.36272 +/- 0.00621\n",
      "       69/1    1.34690    1.36245 +/- 0.00611\n",
      "       70/1    1.34866    1.36222 +/- 0.00601\n",
      "       71/1    1.35168    1.36205 +/- 0.00592\n",
      "       72/1    1.40529    1.36275 +/- 0.00586\n",
      "       73/1    1.34318    1.36244 +/- 0.00578\n",
      "       74/1    1.37212    1.36259 +/- 0.00569\n",
      "       75/1    1.45075    1.36395 +/- 0.00576\n",
      "       76/1    1.38779    1.36431 +/- 0.00568\n",
      "       77/1    1.36921    1.36438 +/- 0.00560\n",
      "       78/1    1.45335    1.36569 +/- 0.00567\n",
      "       79/1    1.36486    1.36568 +/- 0.00559\n",
      "       80/1    1.38253    1.36592 +/- 0.00551\n",
      "       81/1    1.36599    1.36592 +/- 0.00543\n",
      "       82/1    1.38308    1.36616 +/- 0.00536\n",
      "       83/1    1.34729    1.36590 +/- 0.00530\n",
      "       84/1    1.37352    1.36600 +/- 0.00522\n",
      "       85/1    1.30878    1.36524 +/- 0.00521\n",
      "       86/1    1.44826    1.36633 +/- 0.00526\n",
      "       87/1    1.42959    1.36715 +/- 0.00525\n",
      "       88/1    1.41409    1.36775 +/- 0.00522\n",
      "       89/1    1.25910    1.36638 +/- 0.00533\n",
      "       90/1    1.39511    1.36674 +/- 0.00528\n",
      "       91/1    1.43344    1.36756 +/- 0.00528\n",
      "       92/1    1.32342    1.36702 +/- 0.00524\n",
      "       93/1    1.42660    1.36774 +/- 0.00523\n",
      "       94/1    1.48408    1.36913 +/- 0.00535\n",
      "       95/1    1.43708    1.36993 +/- 0.00534\n",
      "       96/1    1.27247    1.36879 +/- 0.00540\n",
      "       97/1    1.41301    1.36930 +/- 0.00536\n",
      "       98/1    1.39833    1.36963 +/- 0.00531\n",
      "       99/1    1.36621    1.36959 +/- 0.00525\n",
      "      100/1    1.37118    1.36961 +/- 0.00519\n",
      " Creating state point statepoint.100.h5...\n",
      "\n",
      " =======================>     TIMING STATISTICS     <=======================\n",
      "\n",
      " Total time for initialization     = 1.2037e+01 seconds\n",
      "   Reading cross sections          = 1.1974e+01 seconds\n",
      " Total time in simulation          = 6.9102e+00 seconds\n",
      "   Time in transport only          = 6.8663e+00 seconds\n",
      "   Time in inactive batches        = 6.5696e-01 seconds\n",
      "   Time in active batches          = 6.2533e+00 seconds\n",
      "   Time synchronizing fission bank = 9.1285e-03 seconds\n",
      "     Sampling source sites         = 8.0548e-03 seconds\n",
      "     SEND/RECV source sites        = 7.8975e-04 seconds\n",
      "   Time accumulating tallies       = 2.3620e-02 seconds\n",
      "   Time writing statepoints        = 4.8175e-03 seconds\n",
      " Total time for finalization       = 1.3693e-04 seconds\n",
      " Total time elapsed                = 1.8954e+01 seconds\n",
      " Calculation Rate (inactive)       = 15221.6 particles/second\n",
      " Calculation Rate (active)         = 14392.4 particles/second\n",
      "\n",
      " ============================>     RESULTS     <============================\n",
      "\n",
      " k-effective (Collision)     = 1.36575 +/- 0.00386\n",
      " k-effective (Track-length)  = 1.36961 +/- 0.00519\n",
      " k-effective (Absorption)    = 1.36163 +/- 0.00300\n",
      " Combined k-effective        = 1.36286 +/- 0.00291\n",
      " Leakage Fraction            = 0.00000 +/- 0.00000\n",
      "\n"
     ]
    }
   ],
   "source": [
    "openmc.run()"
   ]
  },
  {
   "cell_type": "markdown",
   "id": "9ed08550",
   "metadata": {},
   "source": [
    "# End"
   ]
  }
 ],
 "metadata": {
  "kernelspec": {
   "display_name": "Python 3 (ipykernel)",
   "language": "python",
   "name": "python3"
  },
  "language_info": {
   "codemirror_mode": {
    "name": "ipython",
    "version": 3
   },
   "file_extension": ".py",
   "mimetype": "text/x-python",
   "name": "python",
   "nbconvert_exporter": "python",
   "pygments_lexer": "ipython3",
   "version": "3.10.4"
  }
 },
 "nbformat": 4,
 "nbformat_minor": 5
}
